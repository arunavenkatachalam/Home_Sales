{
  "cells": [
    {
      "cell_type": "code",
      "source": [
        "!pip install pyspark"
      ],
      "metadata": {
        "colab": {
          "base_uri": "https://localhost:8080/"
        },
        "id": "KViUmihS03rG",
        "outputId": "51b13cb4-2b95-4070-ba57-8c36a8d4bc03"
      },
      "execution_count": 24,
      "outputs": [
        {
          "output_type": "stream",
          "name": "stdout",
          "text": [
            "Requirement already satisfied: pyspark in /usr/local/lib/python3.10/dist-packages (3.5.0)\n",
            "Requirement already satisfied: py4j==0.10.9.7 in /usr/local/lib/python3.10/dist-packages (from pyspark) (0.10.9.7)\n"
          ]
        }
      ]
    },
    {
      "cell_type": "code",
      "execution_count": 25,
      "metadata": {
        "id": "2XbWNf1Te5fM"
      },
      "outputs": [],
      "source": [
        "# Import packages\n",
        "from pyspark.sql import SparkSession\n",
        "import time\n",
        "\n",
        "# Create a SparkSession\n",
        "spark = SparkSession.builder.appName(\"SparkSQL\").getOrCreate()"
      ]
    },
    {
      "cell_type": "code",
      "execution_count": 26,
      "metadata": {
        "colab": {
          "base_uri": "https://localhost:8080/"
        },
        "id": "wOJqxG_RPSwp",
        "outputId": "02adbeb7-2802-4ec8-c843-f6a3cfd06da5"
      },
      "outputs": [
        {
          "output_type": "stream",
          "name": "stdout",
          "text": [
            "+--------------------+----------+----------+------+--------+---------+-----------+--------+------+----------+----+\n",
            "|                  id|      date|date_built| price|bedrooms|bathrooms|sqft_living|sqft_lot|floors|waterfront|view|\n",
            "+--------------------+----------+----------+------+--------+---------+-----------+--------+------+----------+----+\n",
            "|f8a53099-ba1c-47d...|2022-04-08|      2016|936923|       4|        3|       3167|   11733|     2|         1|  76|\n",
            "|7530a2d8-1ae3-451...|2021-06-13|      2013|379628|       2|        2|       2235|   14384|     1|         0|  23|\n",
            "|43de979c-0bf0-4c9...|2019-04-12|      2014|417866|       2|        2|       2127|   10575|     2|         0|   0|\n",
            "|b672c137-b88c-48b...|2019-10-16|      2016|239895|       2|        2|       1631|   11149|     2|         0|   0|\n",
            "|e0726d4d-d595-407...|2022-01-08|      2017|424418|       3|        2|       2249|   13878|     2|         0|   4|\n",
            "|5aa00529-0533-46b...|2019-01-30|      2017|218712|       2|        3|       1965|   14375|     2|         0|   7|\n",
            "|131492a1-72e2-4a8...|2020-02-08|      2017|419199|       2|        3|       2062|    8876|     2|         0|   6|\n",
            "|8d54a71b-c520-44e...|2019-07-21|      2010|323956|       2|        3|       1506|   11816|     1|         0|  25|\n",
            "|e81aacfe-17fe-46b...|2020-06-16|      2016|181925|       3|        3|       2137|   11709|     2|         0|  22|\n",
            "|2ed8d509-7372-46d...|2021-08-06|      2015|258710|       3|        3|       1918|    9666|     1|         0|  25|\n",
            "|f876d86f-3c9f-42b...|2019-02-27|      2011|167864|       3|        3|       2471|   13924|     2|         0|  15|\n",
            "|0a2bd445-8508-4d8...|2021-12-30|      2014|337527|       2|        3|       1926|   12556|     1|         0|  23|\n",
            "|941bad30-eb49-4a7...|2020-05-09|      2015|229896|       3|        3|       2197|    8641|     1|         0|   3|\n",
            "|dd61eb34-6589-4c0...|2021-07-25|      2016|210247|       3|        2|       1672|   11986|     2|         0|  28|\n",
            "|f1e4cef7-d151-439...|2019-02-01|      2011|398667|       2|        3|       2331|   11356|     1|         0|   7|\n",
            "|ea620c7b-c2f7-4c6...|2021-05-31|      2011|437958|       3|        3|       2356|   11052|     1|         0|  26|\n",
            "|f233cb41-6f33-4b0...|2021-07-18|      2016|437375|       4|        3|       1704|   11721|     2|         0|  34|\n",
            "|c797ca12-52cd-4b1...|2019-06-08|      2015|288650|       2|        3|       2100|   10419|     2|         0|   7|\n",
            "|0cfe57f3-28c2-472...|2019-10-04|      2015|308313|       3|        3|       1960|    9453|     2|         0|   2|\n",
            "|4566cd2a-ac6e-435...|2019-07-15|      2016|177541|       3|        3|       2130|   10517|     2|         0|  25|\n",
            "+--------------------+----------+----------+------+--------+---------+-----------+--------+------+----------+----+\n",
            "only showing top 20 rows\n",
            "\n"
          ]
        }
      ],
      "source": [
        "# 1. Read in the AWS S3 bucket into a DataFrame.\n",
        "from pyspark import SparkFiles\n",
        "url = \"https://2u-data-curriculum-team.s3.amazonaws.com/dataviz-classroom/v1.2/22-big-data/home_sales_revised.csv\"\n",
        "spark.sparkContext.addFile(url)\n",
        "home_sales_df = spark.read.csv(SparkFiles.get(\"home_sales_revised.csv\"), sep=\",\", header=True)\n",
        "home_sales_df.show()\n",
        "\n"
      ]
    },
    {
      "cell_type": "code",
      "execution_count": 27,
      "metadata": {
        "id": "RoljcJ7WPpnm"
      },
      "outputs": [],
      "source": [
        "# 2. Create a temporary view of the DataFrame.\n",
        "\n",
        "home_sales_df.createOrReplaceTempView('home_sales')"
      ]
    },
    {
      "cell_type": "code",
      "execution_count": 28,
      "metadata": {
        "colab": {
          "base_uri": "https://localhost:8080/"
        },
        "id": "L6fkwOeOmqvq",
        "outputId": "f28be063-8002-4d0b-8298-4d63999f4edd"
      },
      "outputs": [
        {
          "output_type": "stream",
          "name": "stdout",
          "text": [
            "+-------------+----------+\n",
            "|average_price|date_built|\n",
            "+-------------+----------+\n",
            "|    296050.24|      2016|\n",
            "|    298233.42|      2012|\n",
            "|    296576.69|      2017|\n",
            "|    299073.89|      2014|\n",
            "|    299999.39|      2013|\n",
            "|     302141.9|      2011|\n",
            "|    307908.86|      2015|\n",
            "|    296800.75|      2010|\n",
            "+-------------+----------+\n",
            "\n"
          ]
        }
      ],
      "source": [
        "# 3. What is the average price for a four bedroom house sold in each year rounded to two decimal places?\n",
        "spark.sql(\"\"\"select Round(Avg(price),2) as average_price ,date_built  from home_sales where bedrooms=4 group by date_built\"\"\").show()\n"
      ]
    },
    {
      "cell_type": "code",
      "execution_count": 29,
      "metadata": {
        "colab": {
          "base_uri": "https://localhost:8080/"
        },
        "id": "l8p_tUS8h8it",
        "outputId": "3f0dc69d-c590-47de-ac7f-8d0b7498ebbb"
      },
      "outputs": [
        {
          "output_type": "stream",
          "name": "stdout",
          "text": [
            "+-------------+----------+\n",
            "|average_price|date_built|\n",
            "+-------------+----------+\n",
            "|    290555.07|      2016|\n",
            "|    293683.19|      2012|\n",
            "|    292676.79|      2017|\n",
            "|    290852.27|      2014|\n",
            "|    295962.27|      2013|\n",
            "|    291117.47|      2011|\n",
            "|     288770.3|      2015|\n",
            "|    292859.62|      2010|\n",
            "+-------------+----------+\n",
            "\n"
          ]
        }
      ],
      "source": [
        "# 4. What is the average price of a home for each year the home was built that have 3 bedrooms and 3 bathrooms rounded to two decimal places?\n",
        "spark.sql(\"\"\"select Round(Avg(price),2) as average_price ,date_built  from home_sales where bedrooms=3 and bathrooms=3 group by date_built\"\"\").show()\n"
      ]
    },
    {
      "cell_type": "code",
      "execution_count": 30,
      "metadata": {
        "colab": {
          "base_uri": "https://localhost:8080/"
        },
        "id": "Y-Eytz64liDU",
        "outputId": "87874698-3ea0-4436-ca56-fdc3fe655ad3"
      },
      "outputs": [
        {
          "output_type": "stream",
          "name": "stdout",
          "text": [
            "+-------------+----------+\n",
            "|average_price|date_built|\n",
            "+-------------+----------+\n",
            "|     287812.6|      2016|\n",
            "|    295858.68|      2012|\n",
            "|    282026.59|      2017|\n",
            "|    294195.13|      2014|\n",
            "|    295142.13|      2013|\n",
            "|    281413.45|      2011|\n",
            "|    291788.36|      2015|\n",
            "|    280447.23|      2010|\n",
            "+-------------+----------+\n",
            "\n"
          ]
        }
      ],
      "source": [
        "#  5. What is the average price of a home for each year built that have 3 bedrooms, 3 bathrooms, with two floors,\n",
        "# and are greater than or equal to 2,000 square feet rounded to two decimal places?\n",
        "spark.sql(\"\"\"select Round(Avg(price),2) as average_price ,\n",
        "date_built\n",
        "from home_sales\n",
        "where bedrooms=3 and bathrooms=3 and floors=2 and sqft_lot>=2000\n",
        "group by date_built\"\"\").show()\n"
      ]
    },
    {
      "cell_type": "code",
      "execution_count": 31,
      "metadata": {
        "colab": {
          "base_uri": "https://localhost:8080/"
        },
        "id": "GUrfgOX1pCRd",
        "outputId": "3a4912d8-bc1d-470a-efbc-e35770f219dd"
      },
      "outputs": [
        {
          "output_type": "stream",
          "name": "stdout",
          "text": [
            "+----+-------------+----------+\n",
            "|view|average_price|date_built|\n",
            "+----+-------------+----------+\n",
            "|   2|    402938.65|      2014|\n",
            "|  91|    1229833.2|      2012|\n",
            "|  29|    396646.37|      2015|\n",
            "|  64|     821564.5|      2010|\n",
            "|  49|     405113.2|      2016|\n",
            "|  99|    1286284.5|      2013|\n",
            "|  11|    402260.46|      2014|\n",
            "|  11|    403923.05|      2012|\n",
            "|  89|   1188010.22|      2012|\n",
            "|  15|    406913.53|      2010|\n",
            "|  45|    396184.61|      2012|\n",
            "|  49|    404430.18|      2014|\n",
            "|  50|    436670.66|      2010|\n",
            "|  44|    412683.27|      2010|\n",
            "|  26|    407449.25|      2014|\n",
            "|  71|    785892.67|      2010|\n",
            "|  66|     556223.0|      2014|\n",
            "|  46|    391369.25|      2011|\n",
            "|  36|    403731.21|      2013|\n",
            "|   8|    403550.45|      2014|\n",
            "+----+-------------+----------+\n",
            "only showing top 20 rows\n",
            "\n",
            "--- 1.1644182205200195 seconds ---\n"
          ]
        }
      ],
      "source": [
        "# 6. What is the \"view\" rating for the average price of a home, rounded to two decimal places, where the homes are greater than\n",
        "# or equal to $350,000? Although this is a small dataset, determine the run time for this query.\n",
        "\n",
        "start_time = time.time()\n",
        "\n",
        "spark.sql(\"\"\"select view,Round(Avg(price),2) as average_price ,\n",
        "date_built\n",
        "from home_sales\n",
        "where price >= 350000\n",
        "group by date_built,view\"\"\").show()\n",
        "\n",
        "print(\"--- %s seconds ---\" % (time.time() - start_time))"
      ]
    },
    {
      "cell_type": "code",
      "execution_count": 32,
      "metadata": {
        "colab": {
          "base_uri": "https://localhost:8080/"
        },
        "id": "KAhk3ZD2tFy8",
        "outputId": "4d225879-0933-43df-adda-12d4e0d55bf3"
      },
      "outputs": [
        {
          "output_type": "execute_result",
          "data": {
            "text/plain": [
              "DataFrame[]"
            ]
          },
          "metadata": {},
          "execution_count": 32
        }
      ],
      "source": [
        "# 7. Cache the the temporary table home_sales.\n",
        "spark.sql(\"cache table home_sales\")"
      ]
    },
    {
      "cell_type": "code",
      "execution_count": 33,
      "metadata": {
        "colab": {
          "base_uri": "https://localhost:8080/"
        },
        "id": "4opVhbvxtL-i",
        "outputId": "dbfb6b30-e42a-4e18-eb06-2e3903f5ee7c"
      },
      "outputs": [
        {
          "output_type": "execute_result",
          "data": {
            "text/plain": [
              "True"
            ]
          },
          "metadata": {},
          "execution_count": 33
        }
      ],
      "source": [
        "# 8. Check if the table is cached.\n",
        "spark.catalog.isCached('home_sales')"
      ]
    },
    {
      "cell_type": "code",
      "execution_count": 34,
      "metadata": {
        "colab": {
          "base_uri": "https://localhost:8080/"
        },
        "id": "5GnL46lwTSEk",
        "outputId": "3e737aa1-024c-461a-fb4e-227a8f0ba430"
      },
      "outputs": [
        {
          "output_type": "stream",
          "name": "stdout",
          "text": [
            "+----+-------------+----------+\n",
            "|view|average_price|date_built|\n",
            "+----+-------------+----------+\n",
            "|   2|    402938.65|      2014|\n",
            "|  91|    1229833.2|      2012|\n",
            "|  29|    396646.37|      2015|\n",
            "|  64|     821564.5|      2010|\n",
            "|  49|     405113.2|      2016|\n",
            "|  99|    1286284.5|      2013|\n",
            "|  11|    402260.46|      2014|\n",
            "|  11|    403923.05|      2012|\n",
            "|  89|   1188010.22|      2012|\n",
            "|  15|    406913.53|      2010|\n",
            "|  45|    396184.61|      2012|\n",
            "|  49|    404430.18|      2014|\n",
            "|  50|    436670.66|      2010|\n",
            "|  44|    412683.27|      2010|\n",
            "|  26|    407449.25|      2014|\n",
            "|  71|    785892.67|      2010|\n",
            "|  66|     556223.0|      2014|\n",
            "|  46|    391369.25|      2011|\n",
            "|  36|    403731.21|      2013|\n",
            "|   8|    403550.45|      2014|\n",
            "+----+-------------+----------+\n",
            "only showing top 20 rows\n",
            "\n",
            "--- 0.6440944671630859 seconds ---\n"
          ]
        }
      ],
      "source": [
        "# 9. Using the cached data, run the query that filters out the view ratings with average price\n",
        "#  greater than or equal to $350,000. Determine the runtime and compare it to uncached runtime.\n",
        "\n",
        "start_time = time.time()\n",
        "\n",
        "spark.sql(\"\"\"select view,Round(Avg(price),2) as average_price ,\n",
        "date_built\n",
        "from home_sales\n",
        "where price >= 350000\n",
        "group by date_built,view\"\"\").show()\n",
        "\n",
        "\n",
        "print(\"--- %s seconds ---\" % (time.time() - start_time))\n"
      ]
    },
    {
      "cell_type": "code",
      "execution_count": 35,
      "metadata": {
        "id": "Qm12WN9isHBR"
      },
      "outputs": [],
      "source": [
        "# 10. Partition by the \"date_built\" field on the formatted parquet home sales data\n",
        "home_sales_df.write.partitionBy(\"date_built\").mode(\"overwrite\").parquet(\"P_home_sales\")"
      ]
    },
    {
      "cell_type": "code",
      "execution_count": 36,
      "metadata": {
        "id": "AZ7BgY61sRqY"
      },
      "outputs": [],
      "source": [
        "# 11. Read the formatted parquet data.\n",
        "p_home_sales_df=spark.read.parquet('P_home_sales')"
      ]
    },
    {
      "cell_type": "code",
      "execution_count": 37,
      "metadata": {
        "id": "J6MJkHfvVcvh"
      },
      "outputs": [],
      "source": [
        "# 12. Create a temporary table for the parquet data.\n",
        "p_home_sales_df.createOrReplaceTempView('p_temp_home_sales')"
      ]
    },
    {
      "cell_type": "code",
      "execution_count": 38,
      "metadata": {
        "colab": {
          "base_uri": "https://localhost:8080/"
        },
        "id": "G_Vhb52rU1Sn",
        "outputId": "0d8b1441-a1e6-40fe-8f72-06aacad14c35"
      },
      "outputs": [
        {
          "output_type": "stream",
          "name": "stdout",
          "text": [
            "+----+-------------+----------+\n",
            "|view|average_price|date_built|\n",
            "+----+-------------+----------+\n",
            "|  45|    396184.61|      2012|\n",
            "|  69|    564801.25|      2017|\n",
            "|  20|    402351.32|      2014|\n",
            "|  74|    716809.25|      2015|\n",
            "|  65|     992484.0|      2014|\n",
            "|  94|   1031061.71|      2012|\n",
            "|  79|    1094288.5|      2015|\n",
            "|   0|    401229.13|      2012|\n",
            "|  74|     750350.0|      2017|\n",
            "|  93|    659662.25|      2012|\n",
            "|  19|    400568.89|      2014|\n",
            "|  65|     639283.5|      2012|\n",
            "|  91|    1229833.2|      2012|\n",
            "|  98|    1176968.5|      2014|\n",
            "|   3|    401942.17|      2015|\n",
            "|  41|    403644.22|      2014|\n",
            "|  20|    395093.88|      2017|\n",
            "|  54|     766411.0|      2012|\n",
            "|  46|    401401.35|      2017|\n",
            "|  38|    399901.24|      2015|\n",
            "+----+-------------+----------+\n",
            "only showing top 20 rows\n",
            "\n",
            "--- 0.8278937339782715 seconds ---\n"
          ]
        }
      ],
      "source": [
        "# 13. Run the query that filters out the view ratings with average price of greater than or eqaul to $350,000\n",
        "# with the parquet DataFrame. Round your average to two decimal places.\n",
        "# Determine the runtime and compare it to the cached version.\n",
        "\n",
        "start_time = time.time()\n",
        "\n",
        "spark.sql(\"\"\"select view,Round(Avg(price),2) as average_price ,\n",
        "date_built\n",
        "from p_temp_home_sales\n",
        "where price >= 350000\n",
        "group by date_built,view\"\"\").show()\n",
        "\n",
        "print(\"--- %s seconds ---\" % (time.time() - start_time))"
      ]
    },
    {
      "cell_type": "code",
      "execution_count": 39,
      "metadata": {
        "colab": {
          "base_uri": "https://localhost:8080/"
        },
        "id": "hjjYzQGjtbq8",
        "outputId": "7b15598c-b10c-45a3-b080-037175087c91"
      },
      "outputs": [
        {
          "output_type": "execute_result",
          "data": {
            "text/plain": [
              "DataFrame[]"
            ]
          },
          "metadata": {},
          "execution_count": 39
        }
      ],
      "source": [
        "# 14. Uncache the home_sales temporary table.\n",
        "spark.sql(\"uncache table home_sales\")"
      ]
    },
    {
      "cell_type": "code",
      "execution_count": 40,
      "metadata": {
        "colab": {
          "base_uri": "https://localhost:8080/"
        },
        "id": "Sy9NBvO7tlmm",
        "outputId": "8bf0d63b-7c39-4938-9139-0a9a62115d36"
      },
      "outputs": [
        {
          "output_type": "execute_result",
          "data": {
            "text/plain": [
              "False"
            ]
          },
          "metadata": {},
          "execution_count": 40
        }
      ],
      "source": [
        "# 15. Check if the home_sales is no longer cached\n",
        "spark.catalog.isCached(\"home_sales\")\n"
      ]
    }
  ],
  "metadata": {
    "colab": {
      "provenance": []
    },
    "kernelspec": {
      "display_name": "Python 3 (ipykernel)",
      "language": "python",
      "name": "python3"
    },
    "language_info": {
      "codemirror_mode": {
        "name": "ipython",
        "version": 3
      },
      "file_extension": ".py",
      "mimetype": "text/x-python",
      "name": "python",
      "nbconvert_exporter": "python",
      "pygments_lexer": "ipython3",
      "version": "3.10.4"
    },
    "nteract": {
      "version": "0.28.0"
    }
  },
  "nbformat": 4,
  "nbformat_minor": 0
}